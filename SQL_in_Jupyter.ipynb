{
 "cells": [
  {
   "cell_type": "code",
   "execution_count": 1,
   "metadata": {},
   "outputs": [
    {
     "name": "stdout",
     "output_type": "stream",
     "text": [
      "Requirement already satisfied: ipython-sql in /Users/arunank.sharan/.pyenv/versions/3.6.1/envs/assemble/lib/python3.6/site-packages\n",
      "Requirement already satisfied: six in /Users/arunank.sharan/.pyenv/versions/3.6.1/envs/assemble/lib/python3.6/site-packages (from ipython-sql)\n",
      "Requirement already satisfied: sqlalchemy>=0.6.7 in /Users/arunank.sharan/.pyenv/versions/3.6.1/envs/assemble/lib/python3.6/site-packages (from ipython-sql)\n",
      "Requirement already satisfied: ipython>=1.0 in /Users/arunank.sharan/.pyenv/versions/3.6.1/envs/assemble/lib/python3.6/site-packages (from ipython-sql)\n",
      "Requirement already satisfied: prettytable<1 in /Users/arunank.sharan/.pyenv/versions/3.6.1/envs/assemble/lib/python3.6/site-packages (from ipython-sql)\n",
      "Requirement already satisfied: sqlparse in /Users/arunank.sharan/.pyenv/versions/3.6.1/envs/assemble/lib/python3.6/site-packages (from ipython-sql)\n",
      "Requirement already satisfied: ipython-genutils>=0.1.0 in /Users/arunank.sharan/.pyenv/versions/3.6.1/envs/assemble/lib/python3.6/site-packages (from ipython-sql)\n",
      "Requirement already satisfied: setuptools>=18.5 in /Users/arunank.sharan/.pyenv/versions/3.6.1/envs/assemble/lib/python3.6/site-packages (from ipython>=1.0->ipython-sql)\n",
      "Requirement already satisfied: decorator in /Users/arunank.sharan/.pyenv/versions/3.6.1/envs/assemble/lib/python3.6/site-packages (from ipython>=1.0->ipython-sql)\n",
      "Requirement already satisfied: prompt-toolkit!=3.0.0,!=3.0.1,<3.1.0,>=2.0.0 in /Users/arunank.sharan/.pyenv/versions/3.6.1/envs/assemble/lib/python3.6/site-packages (from ipython>=1.0->ipython-sql)\n",
      "Requirement already satisfied: backcall in /Users/arunank.sharan/.pyenv/versions/3.6.1/envs/assemble/lib/python3.6/site-packages (from ipython>=1.0->ipython-sql)\n",
      "Requirement already satisfied: appnope; sys_platform == \"darwin\" in /Users/arunank.sharan/.pyenv/versions/3.6.1/envs/assemble/lib/python3.6/site-packages (from ipython>=1.0->ipython-sql)\n",
      "Requirement already satisfied: pickleshare in /Users/arunank.sharan/.pyenv/versions/3.6.1/envs/assemble/lib/python3.6/site-packages (from ipython>=1.0->ipython-sql)\n",
      "Requirement already satisfied: traitlets>=4.2 in /Users/arunank.sharan/.pyenv/versions/3.6.1/envs/assemble/lib/python3.6/site-packages (from ipython>=1.0->ipython-sql)\n",
      "Requirement already satisfied: jedi>=0.10 in /Users/arunank.sharan/.pyenv/versions/3.6.1/envs/assemble/lib/python3.6/site-packages (from ipython>=1.0->ipython-sql)\n",
      "Requirement already satisfied: pygments in /Users/arunank.sharan/.pyenv/versions/3.6.1/envs/assemble/lib/python3.6/site-packages (from ipython>=1.0->ipython-sql)\n",
      "Requirement already satisfied: pexpect; sys_platform != \"win32\" in /Users/arunank.sharan/.pyenv/versions/3.6.1/envs/assemble/lib/python3.6/site-packages (from ipython>=1.0->ipython-sql)\n",
      "Requirement already satisfied: wcwidth in /Users/arunank.sharan/.pyenv/versions/3.6.1/envs/assemble/lib/python3.6/site-packages (from prompt-toolkit!=3.0.0,!=3.0.1,<3.1.0,>=2.0.0->ipython>=1.0->ipython-sql)\n",
      "Requirement already satisfied: parso>=0.7.0 in /Users/arunank.sharan/.pyenv/versions/3.6.1/envs/assemble/lib/python3.6/site-packages (from jedi>=0.10->ipython>=1.0->ipython-sql)\n",
      "Requirement already satisfied: ptyprocess>=0.5 in /Users/arunank.sharan/.pyenv/versions/3.6.1/envs/assemble/lib/python3.6/site-packages (from pexpect; sys_platform != \"win32\"->ipython>=1.0->ipython-sql)\n",
      "\u001b[33mYou are using pip version 9.0.1, however version 21.0.1 is available.\n",
      "You should consider upgrading via the 'pip install --upgrade pip' command.\u001b[0m\n"
     ]
    }
   ],
   "source": [
    "!pip install ipython-sql"
   ]
  },
  {
   "cell_type": "code",
   "execution_count": 2,
   "metadata": {},
   "outputs": [
    {
     "name": "stderr",
     "output_type": "stream",
     "text": [
      "/Users/arunank.sharan/.pyenv/versions/3.6.1/envs/assemble/lib/python3.6/site-packages/psycopg2/__init__.py:144: UserWarning: The psycopg2 wheel package will be renamed from release 2.8; in order to keep installing from binary please use \"pip install psycopg2-binary\" instead. For details see: <http://initd.org/psycopg/docs/install.html#binary-install-from-pypi>.\n",
      "  \"\"\")\n"
     ]
    }
   ],
   "source": [
    "%load_ext sql"
   ]
  },
  {
   "cell_type": "code",
   "execution_count": 3,
   "metadata": {},
   "outputs": [],
   "source": [
    "%sql postgresql://arunank.sharan:@localhost:5432/movie\n"
   ]
  },
  {
   "cell_type": "code",
   "execution_count": null,
   "metadata": {},
   "outputs": [],
   "source": []
  }
 ],
 "metadata": {
  "kernelspec": {
   "display_name": "Python 3",
   "language": "python",
   "name": "python3"
  },
  "language_info": {
   "codemirror_mode": {
    "name": "ipython",
    "version": 3
   },
   "file_extension": ".py",
   "mimetype": "text/x-python",
   "name": "python",
   "nbconvert_exporter": "python",
   "pygments_lexer": "ipython3",
   "version": "3.6.1"
  }
 },
 "nbformat": 4,
 "nbformat_minor": 4
}
